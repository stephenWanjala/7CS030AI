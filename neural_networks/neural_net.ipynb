{
 "cells": [
  {
   "cell_type": "code",
   "execution_count": 1,
   "id": "initial_id",
   "metadata": {
    "collapsed": true,
    "ExecuteTime": {
     "end_time": "2023-11-02T19:38:08.924425805Z",
     "start_time": "2023-11-02T19:38:08.878034921Z"
    }
   },
   "outputs": [],
   "source": []
  },
  {
   "cell_type": "code",
   "execution_count": 2,
   "outputs": [
    {
     "name": "stderr",
     "output_type": "stream",
     "text": [
      "2023-11-02 22:38:12.321567: I tensorflow/tsl/cuda/cudart_stub.cc:28] Could not find cuda drivers on your machine, GPU will not be used.\n",
      "2023-11-02 22:38:12.380257: E tensorflow/compiler/xla/stream_executor/cuda/cuda_dnn.cc:9342] Unable to register cuDNN factory: Attempting to register factory for plugin cuDNN when one has already been registered\n",
      "2023-11-02 22:38:12.380298: E tensorflow/compiler/xla/stream_executor/cuda/cuda_fft.cc:609] Unable to register cuFFT factory: Attempting to register factory for plugin cuFFT when one has already been registered\n",
      "2023-11-02 22:38:12.380331: E tensorflow/compiler/xla/stream_executor/cuda/cuda_blas.cc:1518] Unable to register cuBLAS factory: Attempting to register factory for plugin cuBLAS when one has already been registered\n",
      "2023-11-02 22:38:12.389500: I tensorflow/tsl/cuda/cudart_stub.cc:28] Could not find cuda drivers on your machine, GPU will not be used.\n",
      "2023-11-02 22:38:12.391302: I tensorflow/core/platform/cpu_feature_guard.cc:182] This TensorFlow binary is optimized to use available CPU instructions in performance-critical operations.\n",
      "To enable the following instructions: AVX2 FMA, in other operations, rebuild TensorFlow with the appropriate compiler flags.\n",
      "2023-11-02 22:38:31.982665: W tensorflow/compiler/tf2tensorrt/utils/py_utils.cc:38] TF-TRT Warning: Could not find TensorRT\n"
     ]
    },
    {
     "data": {
      "text/plain": "              Name  Games Played  Minutes Played  Points Per Game  \\\n0   Brandon Ingram            36            27.4              7.4   \n1  Andrew Harrison            35            26.9              7.2   \n2   JaKarr Sampson            74            15.3              5.2   \n3      Malik Sealy            58            11.6              5.7   \n4      Matt Geiger            48            11.5              4.5   \n\n   Field Goals Made  Field Goal Attempts  Field Goal Percent  3 Point Made  \\\n0               2.6                  7.6                34.7           0.5   \n1               2.0                  6.7                29.6           0.7   \n2               2.0                  4.7                42.2           0.4   \n3               2.3                  5.5                42.6           0.1   \n4               1.6                  3.0                52.4           0.0   \n\n   3 Point Attempt  3 Point Percent  ...  Free Throw Attempts  \\\n0              2.1             25.0  ...                  2.3   \n1              2.8             23.5  ...                  3.4   \n2              1.7             24.4  ...                  1.3   \n3              0.5             22.6  ...                  1.3   \n4              0.1              0.0  ...                  1.9   \n\n   Free Throw Percent  Offensive Rebounds  Defensive Rebounds  Rebounds  \\\n0                69.9                 0.7                 3.4       4.1   \n1                76.5                 0.5                 2.0       2.4   \n2                67.0                 0.5                 1.7       2.2   \n3                68.9                 1.0                 0.9       1.9   \n4                67.4                 1.0                 1.5       2.5   \n\n   Assists  Steals  Blocks  Turnovers  TARGET_5Yrs  \n0      1.9     0.4     0.4        1.3            0  \n1      3.7     1.1     0.5        1.6            0  \n2      1.0     0.5     0.3        1.0            0  \n3      0.8     0.6     0.1        1.0            1  \n4      0.3     0.3     0.4        0.8            1  \n\n[5 rows x 21 columns]",
      "text/html": "<div>\n<style scoped>\n    .dataframe tbody tr th:only-of-type {\n        vertical-align: middle;\n    }\n\n    .dataframe tbody tr th {\n        vertical-align: top;\n    }\n\n    .dataframe thead th {\n        text-align: right;\n    }\n</style>\n<table border=\"1\" class=\"dataframe\">\n  <thead>\n    <tr style=\"text-align: right;\">\n      <th></th>\n      <th>Name</th>\n      <th>Games Played</th>\n      <th>Minutes Played</th>\n      <th>Points Per Game</th>\n      <th>Field Goals Made</th>\n      <th>Field Goal Attempts</th>\n      <th>Field Goal Percent</th>\n      <th>3 Point Made</th>\n      <th>3 Point Attempt</th>\n      <th>3 Point Percent</th>\n      <th>...</th>\n      <th>Free Throw Attempts</th>\n      <th>Free Throw Percent</th>\n      <th>Offensive Rebounds</th>\n      <th>Defensive Rebounds</th>\n      <th>Rebounds</th>\n      <th>Assists</th>\n      <th>Steals</th>\n      <th>Blocks</th>\n      <th>Turnovers</th>\n      <th>TARGET_5Yrs</th>\n    </tr>\n  </thead>\n  <tbody>\n    <tr>\n      <th>0</th>\n      <td>Brandon Ingram</td>\n      <td>36</td>\n      <td>27.4</td>\n      <td>7.4</td>\n      <td>2.6</td>\n      <td>7.6</td>\n      <td>34.7</td>\n      <td>0.5</td>\n      <td>2.1</td>\n      <td>25.0</td>\n      <td>...</td>\n      <td>2.3</td>\n      <td>69.9</td>\n      <td>0.7</td>\n      <td>3.4</td>\n      <td>4.1</td>\n      <td>1.9</td>\n      <td>0.4</td>\n      <td>0.4</td>\n      <td>1.3</td>\n      <td>0</td>\n    </tr>\n    <tr>\n      <th>1</th>\n      <td>Andrew Harrison</td>\n      <td>35</td>\n      <td>26.9</td>\n      <td>7.2</td>\n      <td>2.0</td>\n      <td>6.7</td>\n      <td>29.6</td>\n      <td>0.7</td>\n      <td>2.8</td>\n      <td>23.5</td>\n      <td>...</td>\n      <td>3.4</td>\n      <td>76.5</td>\n      <td>0.5</td>\n      <td>2.0</td>\n      <td>2.4</td>\n      <td>3.7</td>\n      <td>1.1</td>\n      <td>0.5</td>\n      <td>1.6</td>\n      <td>0</td>\n    </tr>\n    <tr>\n      <th>2</th>\n      <td>JaKarr Sampson</td>\n      <td>74</td>\n      <td>15.3</td>\n      <td>5.2</td>\n      <td>2.0</td>\n      <td>4.7</td>\n      <td>42.2</td>\n      <td>0.4</td>\n      <td>1.7</td>\n      <td>24.4</td>\n      <td>...</td>\n      <td>1.3</td>\n      <td>67.0</td>\n      <td>0.5</td>\n      <td>1.7</td>\n      <td>2.2</td>\n      <td>1.0</td>\n      <td>0.5</td>\n      <td>0.3</td>\n      <td>1.0</td>\n      <td>0</td>\n    </tr>\n    <tr>\n      <th>3</th>\n      <td>Malik Sealy</td>\n      <td>58</td>\n      <td>11.6</td>\n      <td>5.7</td>\n      <td>2.3</td>\n      <td>5.5</td>\n      <td>42.6</td>\n      <td>0.1</td>\n      <td>0.5</td>\n      <td>22.6</td>\n      <td>...</td>\n      <td>1.3</td>\n      <td>68.9</td>\n      <td>1.0</td>\n      <td>0.9</td>\n      <td>1.9</td>\n      <td>0.8</td>\n      <td>0.6</td>\n      <td>0.1</td>\n      <td>1.0</td>\n      <td>1</td>\n    </tr>\n    <tr>\n      <th>4</th>\n      <td>Matt Geiger</td>\n      <td>48</td>\n      <td>11.5</td>\n      <td>4.5</td>\n      <td>1.6</td>\n      <td>3.0</td>\n      <td>52.4</td>\n      <td>0.0</td>\n      <td>0.1</td>\n      <td>0.0</td>\n      <td>...</td>\n      <td>1.9</td>\n      <td>67.4</td>\n      <td>1.0</td>\n      <td>1.5</td>\n      <td>2.5</td>\n      <td>0.3</td>\n      <td>0.3</td>\n      <td>0.4</td>\n      <td>0.8</td>\n      <td>1</td>\n    </tr>\n  </tbody>\n</table>\n<p>5 rows × 21 columns</p>\n</div>"
     },
     "execution_count": 2,
     "metadata": {},
     "output_type": "execute_result"
    }
   ],
   "source": [
    "# Import libraries\n",
    "import pandas as pd\n",
    "import numpy as np\n",
    "import matplotlib.pyplot as plt\n",
    "import seaborn as sns\n",
    "from sklearn.model_selection import train_test_split\n",
    "from sklearn.metrics import accuracy_score, confusion_matrix, classification_report\n",
    "from sklearn.linear_model import LogisticRegression\n",
    "from sklearn.naive_bayes import GaussianNB\n",
    "from keras.models import Sequential\n",
    "from keras.layers import Dense\n",
    "\n",
    "# Load data set\n",
    "df = pd.read_csv('nba_rookie_data.csv')\n",
    "df.head()\n"
   ],
   "metadata": {
    "collapsed": false,
    "ExecuteTime": {
     "end_time": "2023-11-02T19:38:45.725465621Z",
     "start_time": "2023-11-02T19:38:08.924142516Z"
    }
   },
   "id": "c5154fa87c4facde"
  },
  {
   "cell_type": "code",
   "execution_count": 3,
   "outputs": [
    {
     "data": {
      "text/plain": "(985, 21)"
     },
     "execution_count": 3,
     "metadata": {},
     "output_type": "execute_result"
    }
   ],
   "source": [
    "# Remove outliers using IQR method\n",
    "\n",
    "# Define a function to calculate the lower and upper bounds for each column\n",
    "def iqr_bounds(col):\n",
    "    q1 = col.quantile(0.25)\n",
    "    q3 = col.quantile(0.75)\n",
    "    iqr = q3 - q1\n",
    "    lower = q1 - 1.5 * iqr\n",
    "    upper = q3 + 1.5 * iqr\n",
    "    return lower, upper\n",
    "\n",
    "# Apply the function to each numerical column and store the results in a dictionary\n",
    "bounds = {}\n",
    "for col in df.columns[1:-1]: # Exclude the name and target columns\n",
    "    bounds[col] = iqr_bounds(df[col])\n",
    "\n",
    "# Remove the rows that have values outside the bounds for any column\n",
    "df_clean = df.copy()\n",
    "for col in bounds:\n",
    "    lower = bounds[col][0]\n",
    "    upper = bounds[col][1]\n",
    "    df_clean = df_clean[(df_clean[col] >= lower) & (df_clean[col] <= upper)]\n",
    "\n",
    "# Check the shape of the cleaned data set\n",
    "df_clean.shape\n"
   ],
   "metadata": {
    "collapsed": false,
    "ExecuteTime": {
     "end_time": "2023-11-02T19:38:46.240935645Z",
     "start_time": "2023-11-02T19:38:45.732063859Z"
    }
   },
   "id": "3b0c21dcd6afb84d"
  },
  {
   "cell_type": "code",
   "execution_count": 5,
   "outputs": [
    {
     "name": "stdout",
     "output_type": "stream",
     "text": [
      "(788, 19) (197, 19) (788,) (197,)\n"
     ]
    }
   ],
   "source": [
    "# Split the data set into features and target\n",
    "X = df_clean.drop(['Name', 'TARGET_5Yrs'], axis=1) # Drop the name and target columns\n",
    "y = df_clean['TARGET_5Yrs']\n",
    "\n",
    "# Split the data set into training and testing sets\n",
    "X_train, X_test, y_train, y_test = train_test_split(X, y, test_size=0.2, random_state=42)\n",
    "\n",
    "# Check the shapes of the splits\n",
    "print(X_train.shape, X_test.shape, y_train.shape, y_test.shape)\n"
   ],
   "metadata": {
    "collapsed": false,
    "ExecuteTime": {
     "end_time": "2023-11-02T19:43:48.408954528Z",
     "start_time": "2023-11-02T19:43:48.154964691Z"
    }
   },
   "id": "d088c159dc7c12bf"
  },
  {
   "cell_type": "code",
   "execution_count": 6,
   "outputs": [
    {
     "name": "stderr",
     "output_type": "stream",
     "text": [
      "/home/wanjala/PycharmProjects/7CS030AI/venv/lib/python3.11/site-packages/sklearn/linear_model/_logistic.py:460: ConvergenceWarning: lbfgs failed to converge (status=1):\n",
      "STOP: TOTAL NO. of ITERATIONS REACHED LIMIT.\n",
      "\n",
      "Increase the number of iterations (max_iter) or scale the data as shown in:\n",
      "    https://scikit-learn.org/stable/modules/preprocessing.html\n",
      "Please also refer to the documentation for alternative solver options:\n",
      "    https://scikit-learn.org/stable/modules/linear_model.html#logistic-regression\n",
      "  n_iter_i = _check_optimize_result(\n"
     ]
    },
    {
     "name": "stdout",
     "output_type": "stream",
     "text": [
      "Accuracy score of Logistic Regression: 0.7411167512690355\n",
      "Confusion matrix of Logistic Regression:\n",
      " [[61 28]\n",
      " [23 85]]\n",
      "Classification report of Logistic Regression:\n",
      "               precision    recall  f1-score   support\n",
      "\n",
      "           0       0.73      0.69      0.71        89\n",
      "           1       0.75      0.79      0.77       108\n",
      "\n",
      "    accuracy                           0.74       197\n",
      "   macro avg       0.74      0.74      0.74       197\n",
      "weighted avg       0.74      0.74      0.74       197\n"
     ]
    }
   ],
   "source": [
    "# Create an instance of LogisticRegression\n",
    "log_reg = LogisticRegression()\n",
    "\n",
    "# Fit the model to the training data\n",
    "log_reg.fit(X_train, y_train)\n",
    "\n",
    "# Predict the labels for the testing data\n",
    "y_pred_log_reg = log_reg.predict(X_test)\n",
    "\n",
    "# Evaluate the performance of the model using accuracy score, confusion matrix, and classification report\n",
    "acc_log_reg = accuracy_score(y_test, y_pred_log_reg)\n",
    "cm_log_reg = confusion_matrix(y_test, y_pred_log_reg)\n",
    "cr_log_reg = classification_report(y_test, y_pred_log_reg)\n",
    "\n",
    "# Print the results\n",
    "print('Accuracy score of Logistic Regression:', acc_log_reg)\n",
    "print('Confusion matrix of Logistic Regression:\\n', cm_log_reg)\n",
    "print('Classification report of Logistic Regression:\\n', cr_log_reg)\n"
   ],
   "metadata": {
    "collapsed": false,
    "ExecuteTime": {
     "end_time": "2023-11-02T19:44:14.113563679Z",
     "start_time": "2023-11-02T19:44:12.688059353Z"
    }
   },
   "id": "e9cdd1aa7ad6117"
  },
  {
   "cell_type": "code",
   "execution_count": null,
   "outputs": [],
   "source": [],
   "metadata": {
    "collapsed": false
   },
   "id": "f637d07ed0896e87"
  }
 ],
 "metadata": {
  "kernelspec": {
   "display_name": "Python 3",
   "language": "python",
   "name": "python3"
  },
  "language_info": {
   "codemirror_mode": {
    "name": "ipython",
    "version": 2
   },
   "file_extension": ".py",
   "mimetype": "text/x-python",
   "name": "python",
   "nbconvert_exporter": "python",
   "pygments_lexer": "ipython2",
   "version": "2.7.6"
  }
 },
 "nbformat": 4,
 "nbformat_minor": 5
}
